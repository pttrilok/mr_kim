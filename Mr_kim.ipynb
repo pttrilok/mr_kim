{
  "nbformat": 4,
  "nbformat_minor": 0,
  "metadata": {
    "colab": {
      "name": "Mr kim.ipynb",
      "provenance": [],
      "collapsed_sections": []
    },
    "kernelspec": {
      "name": "python3",
      "display_name": "Python 3"
    }
  },
  "cells": [
    {
      "cell_type": "code",
      "metadata": {
        "id": "snJA2fD7lhPM",
        "colab_type": "code",
        "colab": {}
      },
      "source": [
        "def optimalWay( pos, t,s,n,x,y,sol,visited):\n",
        "  visited[pos] = 1\n",
        "  if n == t+1 and pos == 1:\n",
        "    if sol[0] == -1:\n",
        "      sol[0] = s    \n",
        "    else:\n",
        "      sol[0] = min(sol[0],s);\n",
        "  for i in range(n):\n",
        "    if visited[i] == 0:\n",
        "      sum = abs(x[pos]-x[i])+abs(y[pos]-y[i])\n",
        "      optimalWay(i,t+1,s+sum,n,x,y,sol,visited)\n",
        "  visited[pos] = 0;"
      ],
      "execution_count": null,
      "outputs": []
    },
    {
      "cell_type": "code",
      "metadata": {
        "id": "Opkdnzd2nJV1",
        "colab_type": "code",
        "colab": {}
      },
      "source": [
        " import random\n",
        " import os\n",
        " os.makedirs(\"test_cases/input\",exist_ok=True)\n",
        " os.makedirs(\"test_cases/output\",exist_ok=True)\n",
        " for i in range(50):\n",
        "   writer_data=[]\n",
        "   output_data=[]\n",
        "   t = 10\n",
        "   #writer_data.append(str(t)+\"\\n\")\n",
        "   for test_cases in range(t):\n",
        "     n=random.randint(5,10)\n",
        "     writer_data.append(str(n)+\"\\n\")\n",
        "     n=n+2\n",
        "     x =[]\n",
        "     y=[]\n",
        "     visited=[]\n",
        "     sol=[]\n",
        "     sol.append(-1)\n",
        "     for alpha in range(n):\n",
        "       temp1=random.randint(0,100)\n",
        "       temp2=random.randint(0,100)\n",
        "       writer_data.append(str(temp1)+\" \"+str(temp2)+\"\\n\")\n",
        "       x.append(temp1)\n",
        "       y.append(temp2)\n",
        "       visited.append(0)\n",
        "     optimalWay(0,0,0,n,x,y,sol,visited)\n",
        "     ans=sol[0]\n",
        "     output_data.append(str(ans)+\"\\n\")\n",
        "\n",
        "     \n",
        "   input_file=open(\"test_cases/input/input\"+str(i).zfill(2)+\".txt\",\"a\")\n",
        "   input_file.writelines(writer_data)\n",
        "   input_file.close()\n",
        "   output_file=open(\"test_cases/output/output\"+str(i).zfill(2)+\".txt\",\"a\")\n",
        "   output_file.writelines(output_data)\n",
        "   output_file.close() \n",
        "   "
      ],
      "execution_count": null,
      "outputs": []
    },
    {
      "cell_type": "code",
      "metadata": {
        "id": "jA7gEhg_tVEP",
        "colab_type": "code",
        "colab": {}
      },
      "source": [
        "!zip -r mr_kim.zip test_cases"
      ],
      "execution_count": null,
      "outputs": []
    },
    {
      "cell_type": "code",
      "metadata": {
        "id": "ZDeZa31ytYNH",
        "colab_type": "code",
        "colab": {}
      },
      "source": [
        ""
      ],
      "execution_count": null,
      "outputs": []
    }
  ]
}